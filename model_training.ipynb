{
 "cells": [
  {
   "cell_type": "code",
   "execution_count": null,
   "id": "52236dba-be59-4249-99f5-e94ab363a080",
   "metadata": {},
   "outputs": [],
   "source": [
    "import tensorflow as tf\n",
    "from tensorflow.keras.utils import image_dataset_from_directory\n",
    "from tensorflow.keras.layers import Dense, Flatten, Dropout, GlobalAveragePooling2D, BatchNormalization\n",
    "from tensorflow.keras import Sequential\n",
    "from tensorflow.keras.optimizers import Adam\n",
    "from tensorflow.keras.losses import CategoricalCrossentropy\n",
    "from tensorflow.keras.callbacks import EarlyStopping, ModelCheckpoint, ReduceLROnPlateau\n",
    "\n",
    "import matplotlib.pyplot as plt\n",
    "import numpy as np\n",
    "from sklearn.metrics import ConfusionMatrixDisplay, confusion_matrix, classification_report, accuracy_score\n",
    "\n",
    "import warnings\n",
    "warnings.filterwarnings(\"ignore\")"
   ]
  },
  {
   "cell_type": "markdown",
   "id": "3700eba1-581e-4b18-985a-aaf3a40722cb",
   "metadata": {},
   "source": [
    "## Data Preparation"
   ]
  },
  {
   "cell_type": "code",
   "execution_count": null,
   "id": "5d03a0af-492c-4725-850e-9c5ee5441358",
   "metadata": {},
   "outputs": [],
   "source": [
    "dataset_path = \"C:/Users/Public/AcademicProject/Clahe_WorkingDataset\"\n",
    "image_size = 224, 224\n",
    "batch_size = 32\n",
    "\n",
    "train_ds = image_dataset_from_directory(\n",
    "  dataset_path,\n",
    "  validation_split=0.2,\n",
    "  subset=\"training\",\n",
    "  label_mode=\"categorical\",\n",
    "  seed=23,\n",
    "  image_size=image_size,\n",
    "  batch_size=batch_size)\n",
    "\n",
    "\n",
    "val_ds = image_dataset_from_directory(\n",
    "  dataset_path,\n",
    "  validation_split=0.2,\n",
    "  subset=\"validation\",\n",
    "  label_mode=\"categorical\",\n",
    "  seed=23,\n",
    "  image_size=image_size,\n",
    "  batch_size=batch_size)"
   ]
  },
  {
   "cell_type": "code",
   "execution_count": null,
   "id": "f270d22b-79b8-4e98-9d06-f380d2f195dd",
   "metadata": {},
   "outputs": [],
   "source": [
    "labels = train_ds.class_names\n",
    "print(labels)"
   ]
  },
  {
   "cell_type": "code",
   "execution_count": null,
   "id": "a32ae0ba-877a-402e-978f-688788c1026d",
   "metadata": {},
   "outputs": [],
   "source": [
    "# Data Augmentation\n",
    "\n",
    "train_data_augmentation = Sequential([\n",
    "    tf.keras.layers.Rescaling(1./255),             \n",
    "    tf.keras.layers.RandomZoom(0.2),                \n",
    "    tf.keras.layers.RandomFlip(\"horizontal\"),        \n",
    "    tf.keras.layers.RandomRotation(15),              \n",
    "    tf.keras.layers.RandomWidth(0.1),                \n",
    "    tf.keras.layers.RandomHeight(0.1),                \n",
    "    tf.keras.layers.Resizing(224, 224)  \n",
    "])"
   ]
  },
  {
   "cell_type": "code",
   "execution_count": null,
   "id": "31e419c5-13f1-4d5c-9307-6bed751030c4",
   "metadata": {},
   "outputs": [],
   "source": [
    "val_data_augmentation = Sequential([\n",
    "    tf.keras.layers.Rescaling(1./255),             \n",
    "    tf.keras.layers.Resizing(224, 224)  \n",
    "])"
   ]
  },
  {
   "cell_type": "code",
   "execution_count": null,
   "id": "2fcfd82b-9876-4017-acf3-ae4849d20fc9",
   "metadata": {},
   "outputs": [],
   "source": [
    "train_dataset = train_ds.map(lambda x, y: (train_data_augmentation(x, training=True), y))"
   ]
  },
  {
   "cell_type": "code",
   "execution_count": null,
   "id": "fac1fd6b-f7af-484b-a84d-72f926c7b84f",
   "metadata": {},
   "outputs": [],
   "source": [
    "val_dataset = val_ds.map(lambda x, y: (val_data_augmentation(x, training=True), y))"
   ]
  },
  {
   "cell_type": "code",
   "execution_count": null,
   "id": "def18fd3-a509-44b9-ba7a-50bbdfcaaa88",
   "metadata": {},
   "outputs": [],
   "source": [
    "val_batches = tf.data.experimental.cardinality(val_ds)\n",
    "test_dataset = val_dataset.take(val_batches // 2)\n",
    "val_dataset = val_dataset.skip(val_batches // 2)"
   ]
  },
  {
   "cell_type": "code",
   "execution_count": null,
   "id": "7d924bd1-c709-4797-a2b4-53f7409cf8aa",
   "metadata": {},
   "outputs": [],
   "source": [
    "train_dataset = train_dataset.shuffle(buffer_size=1000)"
   ]
  },
  {
   "cell_type": "code",
   "execution_count": null,
   "id": "50f19098-769c-42fd-9757-17777cef87a1",
   "metadata": {},
   "outputs": [],
   "source": [
    "AUTOTUNE = tf.data.AUTOTUNE\n",
    "\n",
    "train_dataset = train_dataset.prefetch(buffer_size=AUTOTUNE)\n",
    "val_dataset = val_dataset.prefetch(buffer_size=AUTOTUNE)\n",
    "test_dataset = test_dataset.prefetch(buffer_size=AUTOTUNE)"
   ]
  },
  {
   "cell_type": "markdown",
   "id": "8c1efd4b-0651-4367-9b1a-297b3dacd389",
   "metadata": {},
   "source": [
    "## Model Training"
   ]
  },
  {
   "cell_type": "code",
   "execution_count": null,
   "id": "fe17d595-cc1c-417a-97ee-e31eaf49fafb",
   "metadata": {},
   "outputs": [],
   "source": [
    "base_model = tf.keras.applications.DenseNet121(\n",
    "    input_shape=(224, 224, 3), \n",
    "    include_top=False, \n",
    "    weights='imagenet')\n",
    "\n",
    "# Freeze the base model\n",
    "base_model.trainable = False\n",
    "for layer in base_model.layers[-20:]:\n",
    "    layer.trainable = True\n",
    "\n",
    "# Build the model\n",
    "model = Sequential([\n",
    "    base_model,\n",
    "    GlobalAveragePooling2D(),     \n",
    "    BatchNormalization(),  \n",
    "    Dropout(0.3),                 \n",
    "    Dense(256, activation='relu'),\n",
    "    BatchNormalization(),  \n",
    "    Dropout(0.2),                  \n",
    "    Dense(7, activation='softmax') \n",
    "])\n",
    "\n",
    "model.compile(optimizer=Adam(learning_rate=0.001, \n",
    "          beta_1=0.9, beta_2=0.999, epsilon=1e-7),\n",
    "          loss=CategoricalCrossentropy(),\n",
    "          metrics=['accuracy'])"
   ]
  },
  {
   "cell_type": "code",
   "execution_count": null,
   "id": "432196ab-c88c-444b-8828-cf340606cbf8",
   "metadata": {},
   "outputs": [],
   "source": [
    "reduce_lr = ReduceLROnPlateau(monitor='val_loss', factor=0.2,\n",
    "                              patience=4, min_lr=1e-6)\n",
    "best = ModelCheckpoint(filepath=\"densenet_2_model_best_val_accuracy.ckpt\",\n",
    "                                         save_weights_only=False,\n",
    "                                         save_format = 'tf',\n",
    "                                         monitor=\"val_accuracy\",\n",
    "                                         mode=\"max\",\n",
    "                                         save_best_only=True)\n",
    "\n",
    "early_stop = EarlyStopping(monitor='val_loss', patience=15)"
   ]
  },
  {
   "cell_type": "code",
   "execution_count": null,
   "id": "7ead1e64-79f4-4e71-9ea4-3f68a94bba21",
   "metadata": {},
   "outputs": [],
   "source": [
    "# Save the model\n",
    "model.save('densenet_2.h5')  # Save as .h5 file\n",
    "\n",
    "# To reload it later\n",
    "from tensorflow.keras.models import load_model\n",
    "model = load_model('densenet_2.h5')"
   ]
  },
  {
   "cell_type": "markdown",
   "id": "7bdbe7fb-cd0a-461f-9ea3-4bcea3c96577",
   "metadata": {},
   "source": [
    "## Model Evaluation"
   ]
  },
  {
   "cell_type": "code",
   "execution_count": null,
   "id": "5cae72f0-5c7f-4ec9-8efb-571dafb2a369",
   "metadata": {},
   "outputs": [],
   "source": [
    "true_labels = []\n",
    "predicted_labels = []\n",
    "\n",
    "# Iterate through test dataset to get true labels\n",
    "for images, labels in test_dataset:\n",
    "    true_labels.extend(np.argmax(labels.numpy(), axis=1))  # Assuming one-hot encoded labels\n",
    "\n",
    "    # Predict labels using the model\n",
    "    predictions = model.predict(images)\n",
    "    predicted_labels.extend(np.argmax(predictions, axis=1))\n",
    "\n",
    "# Convert lists to NumPy arrays for easier processing\n",
    "true_labels = np.array(true_labels)\n",
    "predicted_labels = np.array(predicted_labels)"
   ]
  },
  {
   "cell_type": "code",
   "execution_count": null,
   "id": "35177d38-b582-44f9-97e8-f8a5cfffc7d6",
   "metadata": {},
   "outputs": [],
   "source": [
    "accuracy = accuracy_score(true_labels, predicted_labels)\n",
    "print(f\"Accuracy: {accuracy:.2f}\")"
   ]
  },
  {
   "cell_type": "code",
   "execution_count": null,
   "id": "ab4ccd63-131c-4bb4-9257-f6615d36ee76",
   "metadata": {},
   "outputs": [],
   "source": [
    "loss, accuracy = model.evaluate(test_dataset)\n",
    "\n",
    "print(f\"Test Loss: {loss}\")\n",
    "print(f\"Test Accuracy: {accuracy}\")"
   ]
  },
  {
   "cell_type": "code",
   "execution_count": null,
   "id": "f2fbb60f-c0e0-4aef-8640-5301aa173cf8",
   "metadata": {},
   "outputs": [],
   "source": [
    "from sklearn.metrics import classification_report, recall_score, f1_score,precision_score\n",
    "# Recall\n",
    "recall = recall_score(true_labels, predicted_labels, average='macro')\n",
    "print(f\"Recall: {recall:.2f}\")\n",
    "# Precision\n",
    "precision = precision_score(true_labels, predicted_labels, average='macro')\n",
    "print(f\"Precision: {precision:.2f}\")\n",
    "# F1 Score\n",
    "f1 = f1_score(true_labels, predicted_labels, average='macro')\n",
    "print(f\"F1 Score: {f1:.2f}\")\n",
    "# Detailed report (includes Precision, Recall, F1, and Accuracy)\n",
    "report = classification_report(true_labels, predicted_labels, target_names=['angiodysplasia', 'esophagitis', 'normal-cecum', 'normal-pylorus', 'normal-z-line', 'polyps', 'ulcerative-colitis'])\n",
    "print(report)"
   ]
  },
  {
   "cell_type": "code",
   "execution_count": null,
   "id": "8edf0353-f734-4e18-9786-f0b31a38ea78",
   "metadata": {},
   "outputs": [],
   "source": [
    "import numpy as np\n",
    "import seaborn as sns\n",
    "import matplotlib.pyplot as plt\n",
    "from sklearn.metrics import confusion_matrix, ConfusionMatrixDisplay\n",
    "\n",
    "l = ['angiodysplasia', 'esophagitis', 'normal-cecum', 'normal-pylorus', 'normal-z-line', 'polyps', 'ulcerative-colitis']\n",
    "\n",
    "cm = confusion_matrix(true_labels, predicted_labels)\n",
    "plt.figure(figsize=(6, 5))\n",
    "sns.heatmap(cm, annot=True, fmt='d', cmap='Blues', xticklabels=l, yticklabels=l)\n",
    "plt.title(\"Confusion Matrix\")\n",
    "plt.xlabel(\"Predicted Label\")\n",
    "plt.ylabel(\"True Label\")\n",
    "plt.show()"
   ]
  }
 ],
 "metadata": {
  "kernelspec": {
   "display_name": "academicproject",
   "language": "python",
   "name": "academicproject"
  },
  "language_info": {
   "codemirror_mode": {
    "name": "ipython",
    "version": 3
   },
   "file_extension": ".py",
   "mimetype": "text/x-python",
   "name": "python",
   "nbconvert_exporter": "python",
   "pygments_lexer": "ipython3",
   "version": "3.9.0"
  }
 },
 "nbformat": 4,
 "nbformat_minor": 5
}
